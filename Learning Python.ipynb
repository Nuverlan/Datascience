{
 "cells": [
  {
   "cell_type": "code",
   "execution_count": 14,
   "metadata": {},
   "outputs": [
    {
     "name": "stdout",
     "output_type": "stream",
     "text": [
      "[[1]\n",
      " [2]\n",
      " [3]]\n",
      "2\n"
     ]
    },
    {
     "ename": "TypeError",
     "evalue": "unsupported operand type(s) for +: 'int' and 'list'",
     "output_type": "error",
     "traceback": [
      "\u001b[1;31m---------------------------------------------------------------------------\u001b[0m",
      "\u001b[1;31mTypeError\u001b[0m                                 Traceback (most recent call last)",
      "\u001b[1;32m<ipython-input-14-888654c4f328>\u001b[0m in \u001b[0;36m<module>\u001b[1;34m\u001b[0m\n\u001b[0;32m     55\u001b[0m \u001b[0mprint\u001b[0m\u001b[1;33m(\u001b[0m\u001b[0ma\u001b[0m\u001b[1;33m.\u001b[0m\u001b[0mndim\u001b[0m\u001b[1;33m)\u001b[0m\u001b[1;33m\u001b[0m\u001b[0m\n\u001b[0;32m     56\u001b[0m \u001b[0mb\u001b[0m \u001b[1;33m=\u001b[0m \u001b[0mnp\u001b[0m\u001b[1;33m.\u001b[0m\u001b[0marray\u001b[0m\u001b[1;33m(\u001b[0m\u001b[1;33m[\u001b[0m\u001b[1;33m[\u001b[0m\u001b[1;36m1\u001b[0m\u001b[1;33m]\u001b[0m\u001b[1;33m,\u001b[0m\u001b[1;33m[\u001b[0m\u001b[1;36m1\u001b[0m\u001b[1;33m,\u001b[0m\u001b[1;36m2\u001b[0m\u001b[1;33m,\u001b[0m\u001b[1;36m3\u001b[0m\u001b[1;33m]\u001b[0m\u001b[1;33m]\u001b[0m\u001b[1;33m)\u001b[0m\u001b[1;33m\u001b[0m\u001b[0m\n\u001b[1;32m---> 57\u001b[1;33m \u001b[0mprint\u001b[0m\u001b[1;33m(\u001b[0m\u001b[0ma\u001b[0m\u001b[1;33m+\u001b[0m\u001b[0mb\u001b[0m\u001b[1;33m)\u001b[0m\u001b[1;33m\u001b[0m\u001b[0m\n\u001b[0m",
      "\u001b[1;31mTypeError\u001b[0m: unsupported operand type(s) for +: 'int' and 'list'"
     ]
    }
   ],
   "source": [
    "import numpy as np\n",
    "\n",
    "#a = np.array([(1,2,3,4,5,6,7,0),(8,7,6,5,4,3,2,1),(1,2,3,4,5,6,7,8),(8,7,6,5,4,3,2,1),(1,2,3,4,5,6,7,8),(8,7,6,5,4,3,2,1)])\n",
    "#a=np.array([1,2,3,'0'],dtype='int32')\n",
    "#print(a)\n",
    "#a[2:, 2:]\n",
    "#a = np.array([1,2,3,4,5,6,7])\n",
    "\n",
    "#a.fill(-4.8)\n",
    "\n",
    "#print(a.ndim)\n",
    "#print(a.shape)\n",
    "#print(a.size)\n",
    "#print(a.nbytes)\n",
    "\n",
    "#print(a[:,2:4])\n",
    "\n",
    "#a = np.arange(25).reshape(5,5)\n",
    "#print(a)\n",
    "#red = a[0:,1::2]\n",
    "#yellow = a[-1:]\n",
    "#blue = a[1::2,0:3:2]\n",
    "\n",
    "#print(id(a))\n",
    "#print(id(red))\n",
    "#print(red)\n",
    "#red[-1,-1]=0\n",
    "\n",
    "#reds = red.copy()\n",
    "#reds[-1,-1]=100000\n",
    "#print(red)\n",
    "#print(a)\n",
    "#print(reds)\n",
    "\n",
    "#a = np.array([10,20,30,40,50])\n",
    "#print(a[(a>10) ^ (a<40)])\n",
    "\n",
    "\n",
    "#a = np.array([10,1,20])\n",
    "#print(a)\n",
    "#print(a[[0,1,2]])\n",
    "\n",
    "\n",
    "# a = np.arange(25).reshape(5,5)\n",
    "# print(a)\n",
    "\n",
    "# a[(a%3>0)]=0\n",
    "# print(a)\n",
    "\n",
    "# np.where(a%3==0,a,np.nan)\n",
    "\n",
    "# Multi Dimensional Array creation\n",
    "a = np.array([[1],[2],[3]])\n",
    "print(a)\n",
    "print(a.ndim)\n",
    "b = np.array([[1],[1,2,3]])\n",
    "print(a+b)"
   ]
  }
 ],
 "metadata": {
  "kernelspec": {
   "display_name": "Python 3",
   "language": "python",
   "name": "python3"
  },
  "language_info": {
   "codemirror_mode": {
    "name": "ipython",
    "version": 3
   },
   "file_extension": ".py",
   "mimetype": "text/x-python",
   "name": "python",
   "nbconvert_exporter": "python",
   "pygments_lexer": "ipython3",
   "version": "3.6.5"
  }
 },
 "nbformat": 4,
 "nbformat_minor": 2
}
